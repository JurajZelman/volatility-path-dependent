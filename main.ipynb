{
 "cells": [
  {
   "cell_type": "markdown",
   "metadata": {},
   "source": [
    "# Volatility is (mostly) path-dependent - Guyon, Lekeufack (2022)\n",
    "\n",
    "This notebook replicates the code for the prediction of the realized volatility from the paper \"Volatility is (mostly) path-dependent\" by Guyon and Lekeufack (2022). "
   ]
  },
  {
   "cell_type": "code",
   "execution_count": null,
   "metadata": {},
   "outputs": [],
   "source": [
    "import pandas as pd\n",
    "import yfinance as yf\n",
    "\n",
    "from volatility.volatility import perform_empirical_study\n",
    "from volatility.utils import data_between_dates"
   ]
  },
  {
   "cell_type": "code",
   "execution_count": null,
   "metadata": {},
   "outputs": [],
   "source": [
    "from volatility.plot_functions import(\n",
    "    plot_timeseries,\n",
    "    plot_prediction_vs_true,\n",
    "    plot_prediction_timeseries,\n",
    "    plot_vol_against_feature,\n",
    "    plot_3d\n",
    "    )"
   ]
  },
  {
   "cell_type": "markdown",
   "metadata": {},
   "source": [
    "For a given volatility index $v$ and a market index $S$, for a given `setting` which is a list of tuples `(n,j)` or `(n, (j_1,..., j_k))` , for each timestep $t$ (in days):\n",
    "$$\n",
    "r_t = \\frac{S_t - S_{t-1}}{S_{t-1}}\n",
    "$$\n",
    "$$\n",
    "R_{n,t} = \\sum_{t_i \\leq t} K_n(t-t_i)r_{t_i}^n\n",
    "$$\n",
    "\n",
    "Then the model estimates the volatility as\n",
    "$$\n",
    "v_t^p = \\beta_0 + \\sum_{n} \\sum_{j\\in\\{j_1,\\dots, j_k\\}} \\beta_{n,j} R_{n,t}^j\n",
    "$$\n",
    "Note: when there is only one $j$ associated to $n$, $\\beta_{n,j}$ is simply noted $\\beta_n$.\n",
    "\n",
    "\n",
    "For example, the linear model we suggest is defined by `p=1`, `setting=[(1,1), (2,1/2)]`, resulting in\n",
    "$$\n",
    "v_t = \\beta_0 + \\beta_1 R_{1,t} + \\beta_2 R_{2,t}^{1/2}\n",
    "$$\n",
    "The model (M3) is defined by `p=2`, `setting=[(1,(1,2))]`, resulting in\n",
    "$$\n",
    "v_t^2 = \\beta_0 + \\beta_{1,1} R_{1,t} + \\beta_{1,2} R_{1,t}^2\n",
    "$$\n",
    "\n",
    "Note that there is one kernel per $n$. The kernels are either time-shifted power-laws or convex combinations of two exponentials."
   ]
  },
  {
   "cell_type": "code",
   "execution_count": null,
   "metadata": {},
   "outputs": [],
   "source": [
    "load_from = pd.to_datetime('1995-01-01')  # Need at least 4 years prior to the first training day\n",
    "train_start_date = pd.to_datetime('2000-01-01')\n",
    "test_start_date = pd.to_datetime('2019-01-01')\n",
    "test_end_date = pd.to_datetime('2022-05-15')"
   ]
  },
  {
   "cell_type": "code",
   "execution_count": null,
   "metadata": {},
   "outputs": [],
   "source": [
    "# Load data on SPX and VIX\n",
    "spx_data = yf.Ticker(\"^GSPC\").history(start=load_from, end=test_end_date)\n",
    "vix_data = yf.Ticker(\"^VIX\").history(start=load_from, end=test_end_date)"
   ]
  },
  {
   "cell_type": "code",
   "execution_count": null,
   "metadata": {},
   "outputs": [],
   "source": [
    "vix_data"
   ]
  },
  {
   "cell_type": "code",
   "execution_count": null,
   "metadata": {},
   "outputs": [],
   "source": [
    "spx_data"
   ]
  },
  {
   "cell_type": "code",
   "execution_count": null,
   "metadata": {},
   "outputs": [],
   "source": [
    "spx_data.index = pd.to_datetime(spx_data.index.date)\n",
    "vix_data.index = pd.to_datetime(vix_data.index.date)"
   ]
  },
  {
   "cell_type": "code",
   "execution_count": null,
   "metadata": {},
   "outputs": [],
   "source": [
    "spx = spx_data['Close']\n",
    "vix = vix_data['Close']/100"
   ]
  },
  {
   "cell_type": "code",
   "execution_count": null,
   "metadata": {},
   "outputs": [],
   "source": [
    "spx"
   ]
  },
  {
   "cell_type": "code",
   "execution_count": null,
   "metadata": {},
   "outputs": [],
   "source": [
    "vix"
   ]
  },
  {
   "cell_type": "code",
   "execution_count": null,
   "metadata": {},
   "outputs": [],
   "source": [
    "# Plot data\n",
    "fig = plot_timeseries(100*vix, label='VIX', secondary=spx, secondary_label='SPX', \n",
    "                      add_hline=False, color_secondary='b', display_score=False)"
   ]
  },
  {
   "cell_type": "code",
   "execution_count": null,
   "metadata": {},
   "outputs": [],
   "source": [
    "max_delta = 1000  # Number of past returns used in the computation of R_{n,t} in business days\n",
    "tspl = True # if True, use time-shifted power-law kernels. Otherwise, use a convex combination of two exponential"
   ]
  },
  {
   "cell_type": "code",
   "execution_count": null,
   "metadata": {},
   "outputs": [],
   "source": [
    "# Next cell runs in about 1-3 minutes if tspl=True, and up to 10 minutes if tspl=False.\n",
    "p = 1\n",
    "setting = [(1, 1), (2, 1/2)] # Our linear model\n",
    "# setting = [(1, (1,2)), (2, 1/2)] # Our model with a parabolic term in R_1\n",
    "sol = perform_empirical_study(\n",
    "            vol=vix,\n",
    "            index=spx,\n",
    "            p=p,\n",
    "            # tspl=tspl,\n",
    "            setting=setting,\n",
    "            train_start_date=train_start_date,\n",
    "            test_start_date=test_start_date,\n",
    "            test_end_date=test_end_date, \n",
    "            max_delta=max_delta\n",
    "        )"
   ]
  },
  {
   "cell_type": "code",
   "execution_count": null,
   "metadata": {},
   "outputs": [],
   "source": [
    "sol.keys()"
   ]
  },
  {
   "cell_type": "code",
   "execution_count": null,
   "metadata": {},
   "outputs": [],
   "source": [
    "# Computed optimal parameters\n",
    "sol['opt_params']"
   ]
  },
  {
   "cell_type": "code",
   "execution_count": null,
   "metadata": {},
   "outputs": [],
   "source": [
    "# scores\n",
    "print({key: sol[key] for key in ['train_r2', 'test_r2', 'train_rmse', 'test_rmse']})"
   ]
  },
  {
   "cell_type": "code",
   "execution_count": null,
   "metadata": {},
   "outputs": [],
   "source": [
    "# plot timeseries of predictions vs true\n",
    "pred_on_test = sol['test_pred'] * 100\n",
    "pred_on_train = sol['train_pred'] * 100\n",
    "target_on_test = data_between_dates(vix, start_date=test_start_date, end_date=test_end_date) * 100 \n",
    "target_on_train = data_between_dates(vix, start_date=train_start_date, end_date=test_start_date) * 100\n",
    "index_on_test = data_between_dates(spx, start_date=test_start_date, end_date=test_end_date)\n",
    "index_on_train = data_between_dates(spx, start_date=train_start_date, end_date=test_start_date)"
   ]
  },
  {
   "cell_type": "code",
   "execution_count": null,
   "metadata": {},
   "outputs": [],
   "source": [
    "fig = plot_prediction_timeseries(y_target=target_on_test, y_pred=pred_on_test, index=index_on_test)"
   ]
  },
  {
   "cell_type": "code",
   "execution_count": null,
   "metadata": {},
   "outputs": [],
   "source": [
    "# Plot residuals on train set\n",
    "fig = plot_prediction_vs_true(y_pred=pred_on_test, y_target=target_on_test, plot_residuals=True, ratio_residuals=True)"
   ]
  },
  {
   "cell_type": "code",
   "execution_count": null,
   "metadata": {},
   "outputs": [],
   "source": [
    "### Target vs Features\n",
    "r_1_train = data_between_dates(sol['features']['R_1'], start_date=train_start_date, end_date=test_start_date)\n",
    "sigma_train =  data_between_dates(sol['features']['R_2^0.5'], start_date=train_start_date, end_date=test_start_date) * 100\n",
    "fig = plot_vol_against_feature(feature=r_1_train, target=target_on_train, color_variable=sigma_train, \n",
    "                               color_label='$\\Sigma$', feature_name='$R_1$')"
   ]
  },
  {
   "cell_type": "code",
   "execution_count": null,
   "metadata": {},
   "outputs": [],
   "source": [
    "fig = plot_3d(r_1_train, sigma_train, target_on_train, xlabel='$R_1$', ylabel='$\\Sigma$', zlabel='VIX') # figsize=bigfigsize)"
   ]
  },
  {
   "cell_type": "code",
   "execution_count": null,
   "metadata": {},
   "outputs": [],
   "source": []
  },
  {
   "cell_type": "code",
   "execution_count": null,
   "metadata": {},
   "outputs": [],
   "source": []
  }
 ],
 "metadata": {
  "kernelspec": {
   "display_name": "volatility-b3C87WGP-py3.11",
   "language": "python",
   "name": "python3"
  },
  "language_info": {
   "codemirror_mode": {
    "name": "ipython",
    "version": 3
   },
   "file_extension": ".py",
   "mimetype": "text/x-python",
   "name": "python",
   "nbconvert_exporter": "python",
   "pygments_lexer": "ipython3",
   "version": "3.11.3"
  },
  "orig_nbformat": 4
 },
 "nbformat": 4,
 "nbformat_minor": 2
}
